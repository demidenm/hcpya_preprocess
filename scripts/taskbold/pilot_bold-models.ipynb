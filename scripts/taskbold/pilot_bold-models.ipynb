{
 "cells": [
  {
   "cell_type": "code",
   "execution_count": 1,
   "id": "2bc7e894-8092-4b98-b9b1-594b0fd0b2da",
   "metadata": {},
   "outputs": [],
   "source": [
    "import numpy as np\n",
    "import pandas as pd\n",
    "from pathlib import Path\n",
    "from nilearn.glm.first_level import FirstLevelModel, make_first_level_design_matrix\n",
    "from nilearn.plotting import plot_design_matrix\n",
    "from nilearn.glm import compute_fixed_effects\n",
    "from nilearn.glm.second_level import SecondLevelModel\n",
    "import subprocess\n",
    "from IPython.display import Markdown"
   ]
  },
  {
   "cell_type": "code",
   "execution_count": null,
   "id": "10196047-f203-42a0-9ab1-af5c0289c8c5",
   "metadata": {},
   "outputs": [],
   "source": [
    "test_fmriprep_df = \"/scratch.global/mdemiden/hcp_bold_test\"\n",
    "events_df = "
   ]
  },
  {
   "cell_type": "code",
   "execution_count": null,
   "id": "564e0d81-6ae2-44cf-83ee-dcf8a2067dc8",
   "metadata": {},
   "outputs": [],
   "source": [
    "s3_fmriprep_sublist = [\"s3cmd\", \"ls\", \"s3://hcp-youth/derivatives/fmriprep_v24_0_1/ses-3T/\", \"--exclude\", \"*.html\", \"--exclude\", \"*sourcedata\"]\n",
    "sub_list = subprocess.run(s3_fmriprep_sublist, capture_output=True, text=True)\n",
    "lines = sub_list.stdout.splitlines()\n",
    "subjects = [line.split()[-1] for line in lines if line] "
   ]
  },
  {
   "cell_type": "code",
   "execution_count": null,
   "id": "98a1fc81-98eb-40e7-a40e-238af4362c66",
   "metadata": {},
   "outputs": [],
   "source": [
    "sub = \"11007\"  \n",
    "down_to_path = \"/tmp/\"\n",
    "input_s3path = \"s3://hcp-youth/derivatives/fmriprep_v24_0_1/ses-3T\"\n",
    "# Construct the S3 sync command\n",
    "s3_download_fmriprepderiv = [\n",
    "    \"s3cmd\", \"sync\", \"--recursive\",\n",
    "    f\"{input_s3path}/sub-{sub}\", down_to_path,\n",
    "    \"--exclude\", \"*.h5\",\n",
    "    \"--exclude\", \"*xfm.json\",\n",
    "    \"--exclude\", \"*boldref*\",\n",
    "    \"--exclude\", \"*.gii\",\n",
    "    \"--exclude\", \"*91k*\",\n",
    "    \"--exclude\", \"*_T2w.nii.gz\",\n",
    "    \"--exclude\", \"*_T21w.nii.gz\",\n",
    "    \"--exclude\", \"*dseg.nii.gz\"\n",
    "]\n",
    "sync_result = subprocess.run(s3_download_fmriprepderiv, capture_output=True, text=True)"
   ]
  },
  {
   "cell_type": "markdown",
   "id": "86f90ff5-767e-4adf-b903-f68c7baf56a4",
   "metadata": {},
   "source": [
    "# Motor Task"
   ]
  },
  {
   "cell_type": "code",
   "execution_count": null,
   "id": "f2df4fb7-28a0-402f-a817-8ae3dffe16a7",
   "metadata": {},
   "outputs": [],
   "source": [
    "motor_img = \"path/to/your/image.jpg\"\n",
    "display(Markdown(f\"![]({image_path})\"))"
   ]
  }
 ],
 "metadata": {
  "kernelspec": {
   "display_name": "Python 3 (ipykernel)",
   "language": "python",
   "name": "python3"
  },
  "language_info": {
   "codemirror_mode": {
    "name": "ipython",
    "version": 3
   },
   "file_extension": ".py",
   "mimetype": "text/x-python",
   "name": "python",
   "nbconvert_exporter": "python",
   "pygments_lexer": "ipython3",
   "version": "3.9.7"
  }
 },
 "nbformat": 4,
 "nbformat_minor": 5
}
